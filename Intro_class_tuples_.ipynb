{
 "cells": [
  {
   "cell_type": "code",
   "execution_count": 23,
   "id": "9d1928a3-4dc3-4cfa-838f-4a978baf82be",
   "metadata": {},
   "outputs": [
    {
     "name": "stdout",
     "output_type": "stream",
     "text": [
      "('apple', 'banana', 'cherry', 'apple', 'cherry', [12, 13, 14, 15], ('Ade', 'John'), ('Ade', 'John'))\n"
     ]
    }
   ],
   "source": [
    "thistuple = (\"apple\", \"banana\", \"cherry\", \"apple\", \"cherry\", [12,13,14,15], ('Ade', 'John'), ('Ade', 'John'))\n",
    "print(thistuple)"
   ]
  },
  {
   "cell_type": "code",
   "execution_count": 19,
   "id": "220495a1-cc42-4d0c-a470-cae5481618ae",
   "metadata": {},
   "outputs": [
    {
     "data": {
      "text/plain": [
       "13"
      ]
     },
     "execution_count": 19,
     "metadata": {},
     "output_type": "execute_result"
    }
   ],
   "source": [
    "thistuple[5][1]"
   ]
  },
  {
   "cell_type": "code",
   "execution_count": 21,
   "id": "b36b9ded-eea4-49cb-8221-188f1b56000b",
   "metadata": {},
   "outputs": [
    {
     "data": {
      "text/plain": [
       "(('Ade', 'John'),\n",
       " [12, 13, 14, 15],\n",
       " 'cherry',\n",
       " 'apple',\n",
       " 'cherry',\n",
       " 'banana',\n",
       " 'apple')"
      ]
     },
     "execution_count": 21,
     "metadata": {},
     "output_type": "execute_result"
    }
   ],
   "source": [
    "thistuple[::-1]"
   ]
  },
  {
   "cell_type": "code",
   "execution_count": 29,
   "id": "dcc8a2a0-db63-472b-8657-877fd242c937",
   "metadata": {},
   "outputs": [],
   "source": [
    "thistuple = list(thistuple)"
   ]
  },
  {
   "cell_type": "code",
   "execution_count": 33,
   "id": "7c7cc8d6-3f04-4988-85d1-4862cfe1797a",
   "metadata": {},
   "outputs": [
    {
     "data": {
      "text/plain": [
       "list"
      ]
     },
     "execution_count": 33,
     "metadata": {},
     "output_type": "execute_result"
    }
   ],
   "source": [
    "type(thistuple)"
   ]
  },
  {
   "cell_type": "code",
   "execution_count": 35,
   "id": "ee713c48-d9eb-4868-a65c-51ce06514297",
   "metadata": {},
   "outputs": [],
   "source": [
    "thistuple[4] = 'Cherrry'"
   ]
  },
  {
   "cell_type": "code",
   "execution_count": 37,
   "id": "60649446-d1e4-4973-af88-cb74d2341993",
   "metadata": {},
   "outputs": [
    {
     "data": {
      "text/plain": [
       "['apple',\n",
       " 'banana',\n",
       " 'cherry',\n",
       " 'apple',\n",
       " 'Cherrry',\n",
       " [12, 13, 14, 15],\n",
       " ('Ade', 'John'),\n",
       " ('Ade', 'John')]"
      ]
     },
     "execution_count": 37,
     "metadata": {},
     "output_type": "execute_result"
    }
   ],
   "source": [
    "thistuple"
   ]
  },
  {
   "cell_type": "code",
   "execution_count": 39,
   "id": "8ae9df3c-61e3-4093-b82f-8e5a8f07f050",
   "metadata": {},
   "outputs": [
    {
     "data": {
      "text/plain": [
       "('apple',\n",
       " 'banana',\n",
       " 'cherry',\n",
       " 'apple',\n",
       " 'Cherrry',\n",
       " [12, 13, 14, 15],\n",
       " ('Ade', 'John'),\n",
       " ('Ade', 'John'))"
      ]
     },
     "execution_count": 39,
     "metadata": {},
     "output_type": "execute_result"
    }
   ],
   "source": [
    "tuple(thistuple)"
   ]
  },
  {
   "cell_type": "code",
   "execution_count": 41,
   "id": "aac15ec9-5be4-4150-80e1-3ba352df8c09",
   "metadata": {},
   "outputs": [
    {
     "data": {
      "text/plain": [
       "8"
      ]
     },
     "execution_count": 41,
     "metadata": {},
     "output_type": "execute_result"
    }
   ],
   "source": [
    "len(thistuple)"
   ]
  },
  {
   "cell_type": "code",
   "execution_count": 47,
   "id": "16441904-7ad7-434e-957b-b9b2bbc12047",
   "metadata": {},
   "outputs": [
    {
     "data": {
      "text/plain": [
       "['apple',\n",
       " 'banana',\n",
       " 'cherry',\n",
       " 'apple',\n",
       " 'Cherrry',\n",
       " [12, 13, 14, 15],\n",
       " ('Ade', 'John'),\n",
       " ('Ade', 'John')]"
      ]
     },
     "execution_count": 47,
     "metadata": {},
     "output_type": "execute_result"
    }
   ],
   "source": [
    "thistuple"
   ]
  },
  {
   "cell_type": "code",
   "execution_count": 49,
   "id": "2373215d-f4c6-4e64-8965-e8df94b59f44",
   "metadata": {},
   "outputs": [
    {
     "name": "stdout",
     "output_type": "stream",
     "text": [
      "apple\n",
      "banana\n",
      "cherry\n"
     ]
    }
   ],
   "source": [
    "fruits = (\"apple\", \"banana\", \"cherry\")\n",
    "\n",
    "(green, yellow, red) = fruits\n",
    "\n",
    "print(green)\n",
    "print(yellow)\n",
    "print(red)\n"
   ]
  },
  {
   "cell_type": "code",
   "execution_count": 45,
   "id": "9bcb9f26-e945-497a-b89b-c09e1d597a46",
   "metadata": {},
   "outputs": [
    {
     "data": {
      "text/plain": [
       "('Ade', 'John')"
      ]
     },
     "execution_count": 45,
     "metadata": {},
     "output_type": "execute_result"
    }
   ],
   "source": [
    "thistuple[(len(thistuple)-1)]"
   ]
  },
  {
   "cell_type": "code",
   "execution_count": 51,
   "id": "5a24591c-d9bb-49e2-ab00-878e88348cd0",
   "metadata": {},
   "outputs": [
    {
     "name": "stdout",
     "output_type": "stream",
     "text": [
      "apple\n",
      "banana\n",
      "['cherry', 'strawberry', 'raspberry']\n"
     ]
    }
   ],
   "source": [
    "fruits = (\"apple\", \"banana\", \"cherry\", \"strawberry\", \"raspberry\")\n",
    "\n",
    "(green, yellow, *red) = fruits\n",
    "\n",
    "print(green)\n",
    "print(yellow)\n",
    "print(red)"
   ]
  },
  {
   "cell_type": "code",
   "execution_count": 55,
   "id": "caa17133-ef6b-4e0f-9af9-5fcf6f99250d",
   "metadata": {},
   "outputs": [
    {
     "name": "stdout",
     "output_type": "stream",
     "text": [
      "apple\n",
      "banana\n",
      "cherry\n",
      "apple\n",
      "Cherrry\n",
      "[12, 13, 14, 15]\n",
      "('Ade', 'John')\n",
      "('Ade', 'John')\n"
     ]
    }
   ],
   "source": [
    "for i in thistuple:\n",
    "    print (i)"
   ]
  },
  {
   "cell_type": "code",
   "execution_count": 61,
   "id": "58cf9d3a-6e78-4631-9c45-99d5cd782993",
   "metadata": {},
   "outputs": [
    {
     "name": "stdout",
     "output_type": "stream",
     "text": [
      "apple\n",
      "banana\n",
      "cherry\n",
      "apple\n",
      "Cherrry\n",
      "[12, 13, 14, 15]\n",
      "('Ade', 'John')\n",
      "('Ade', 'John')\n"
     ]
    }
   ],
   "source": [
    "for i in range(len(thistuple)):\n",
    "    print(thistuple[i])"
   ]
  },
  {
   "cell_type": "code",
   "execution_count": null,
   "id": "dce0f913-e4a0-44a0-96a1-ad35e80f369b",
   "metadata": {},
   "outputs": [],
   "source": [
    "thistuple = (\"apple\", \"banana\", \"cherry\")\n",
    "for i in range(len(thistuple)):\n",
    "  print(thistuple[i])"
   ]
  },
  {
   "cell_type": "code",
   "execution_count": 63,
   "id": "01d55c06-29dc-41ab-a373-d0f422500eca",
   "metadata": {},
   "outputs": [],
   "source": [
    "thisturp = (1,2,3,4)\n"
   ]
  },
  {
   "cell_type": "code",
   "execution_count": 73,
   "id": "68dfed2b-b91a-4cff-a2da-3ea2abe76cc7",
   "metadata": {},
   "outputs": [],
   "source": [
    "thistuple = tuple(thistuple)"
   ]
  },
  {
   "cell_type": "code",
   "execution_count": 75,
   "id": "f9a5dea5-b322-4286-ae6d-44ec629ac4ec",
   "metadata": {},
   "outputs": [
    {
     "data": {
      "text/plain": [
       "('apple',\n",
       " 'banana',\n",
       " 'cherry',\n",
       " 'apple',\n",
       " 'Cherrry',\n",
       " [12, 13, 14, 15],\n",
       " ('Ade', 'John'),\n",
       " ('Ade', 'John'),\n",
       " 1,\n",
       " 2,\n",
       " 3,\n",
       " 4)"
      ]
     },
     "execution_count": 75,
     "metadata": {},
     "output_type": "execute_result"
    }
   ],
   "source": [
    "thistuple+thisturp"
   ]
  },
  {
   "cell_type": "code",
   "execution_count": 77,
   "id": "70cc44f9-d264-47e2-8e31-7c9e02b5fb15",
   "metadata": {},
   "outputs": [
    {
     "data": {
      "text/plain": [
       "(1, 2, 3, 4, 1, 2, 3, 4)"
      ]
     },
     "execution_count": 77,
     "metadata": {},
     "output_type": "execute_result"
    }
   ],
   "source": [
    "thisturp*2"
   ]
  },
  {
   "cell_type": "code",
   "execution_count": 103,
   "id": "fe197d28-3963-4489-8b37-3a47ca8d14b3",
   "metadata": {},
   "outputs": [],
   "source": [
    "myset = {'Apple', 'Banana', 'Cherry', 'Cherry'}"
   ]
  },
  {
   "cell_type": "code",
   "execution_count": 105,
   "id": "2dfbbc97-4f01-4a68-b2ce-05a26ee9bbff",
   "metadata": {},
   "outputs": [
    {
     "data": {
      "text/plain": [
       "set"
      ]
     },
     "execution_count": 105,
     "metadata": {},
     "output_type": "execute_result"
    }
   ],
   "source": [
    "type(myset)"
   ]
  },
  {
   "cell_type": "code",
   "execution_count": 111,
   "id": "e4c1dc98-1257-4fde-b0ee-212086fb4093",
   "metadata": {},
   "outputs": [
    {
     "name": "stdout",
     "output_type": "stream",
     "text": [
      "Banana\n",
      "Cherry\n",
      "Apple\n"
     ]
    }
   ],
   "source": [
    "for items in myset:\n",
    "    print(items)"
   ]
  },
  {
   "cell_type": "code",
   "execution_count": 115,
   "id": "142b60a4-f53f-4aa4-ad86-c85a40097af8",
   "metadata": {},
   "outputs": [
    {
     "name": "stdout",
     "output_type": "stream",
     "text": [
      "yes\n"
     ]
    }
   ],
   "source": [
    "if 'Apple' in myset:\n",
    "    print(\"yes\")"
   ]
  },
  {
   "cell_type": "code",
   "execution_count": 117,
   "id": "83d6e6d4-90b7-46bd-b980-dd9323870282",
   "metadata": {},
   "outputs": [],
   "source": [
    "myset.add('Orange')"
   ]
  },
  {
   "cell_type": "code",
   "execution_count": 121,
   "id": "109ad93f-4f9d-4df4-8bd0-e55646f314a3",
   "metadata": {},
   "outputs": [
    {
     "data": {
      "text/plain": [
       "{'Apple', 'Banana', 'Cherry', 'Orange'}"
      ]
     },
     "execution_count": 121,
     "metadata": {},
     "output_type": "execute_result"
    }
   ],
   "source": [
    "myset1 = myset\n",
    "myset1"
   ]
  },
  {
   "cell_type": "code",
   "execution_count": null,
   "id": "3c8c52dc-61f2-414a-9661-aca75eef3814",
   "metadata": {},
   "outputs": [],
   "source": []
  },
  {
   "cell_type": "code",
   "execution_count": 131,
   "id": "4974d460-0b78-49c9-829f-ad46ef058206",
   "metadata": {},
   "outputs": [
    {
     "name": "stdout",
     "output_type": "stream",
     "text": [
      "None\n"
     ]
    }
   ],
   "source": [
    "myset2= myset.update(myset1)\n",
    "print(myset2)"
   ]
  },
  {
   "cell_type": "code",
   "execution_count": 133,
   "id": "7131b217-b0eb-4481-aa18-4a40a5fcd07a",
   "metadata": {},
   "outputs": [
    {
     "data": {
      "text/plain": [
       "{'Apple', 'Banana', 'Cherry', 'Orange'}"
      ]
     },
     "execution_count": 133,
     "metadata": {},
     "output_type": "execute_result"
    }
   ],
   "source": [
    "myset"
   ]
  },
  {
   "cell_type": "code",
   "execution_count": 135,
   "id": "55298670-4f3c-4357-bcf6-e0a67cec613c",
   "metadata": {},
   "outputs": [
    {
     "data": {
      "text/plain": [
       "{'Apple', 'Banana', 'Cherry', 'Orange'}"
      ]
     },
     "execution_count": 135,
     "metadata": {},
     "output_type": "execute_result"
    }
   ],
   "source": [
    "myset1"
   ]
  },
  {
   "cell_type": "code",
   "execution_count": 143,
   "id": "87ded0c1-144d-483a-b3ff-ac0cf8ecd91f",
   "metadata": {},
   "outputs": [
    {
     "name": "stdout",
     "output_type": "stream",
     "text": [
      "{1, 2, 3, 4, 5}\n",
      "{1, 2, 5, 6, 7, 8}\n"
     ]
    }
   ],
   "source": [
    "a = {1,2,3,4,5, 5, 4}\n",
    "b = {1,2,5,6,7,8,2,1}\n",
    "print(a)\n",
    "print(b)"
   ]
  },
  {
   "cell_type": "code",
   "execution_count": 159,
   "id": "54a36bea-1392-4a1d-a618-72c3b66b0dc8",
   "metadata": {},
   "outputs": [],
   "source": [
    "thistuple = (1,2,3,4)"
   ]
  },
  {
   "cell_type": "code",
   "execution_count": 161,
   "id": "6931b0eb-a422-45c0-ba08-c10aae5b9402",
   "metadata": {},
   "outputs": [
    {
     "data": {
      "text/plain": [
       "{1, 2, 3, 4, 5, 6, 7, 8}"
      ]
     },
     "execution_count": 161,
     "metadata": {},
     "output_type": "execute_result"
    }
   ],
   "source": [
    "d = a.union(b, thistuple)\n",
    "d"
   ]
  },
  {
   "cell_type": "code",
   "execution_count": 147,
   "id": "6f616030-fd63-4cf6-89c6-3dafeb3d4714",
   "metadata": {},
   "outputs": [
    {
     "name": "stdout",
     "output_type": "stream",
     "text": [
      "{'apple', 'pineapple', 'cherry', 'mango', 'banana', 'papaya'}\n"
     ]
    }
   ],
   "source": [
    "thisset = {\"apple\", \"banana\", \"cherry\"}\n",
    "tropical = {\"pineapple\", \"mango\", \"papaya\"}\n",
    "\n",
    "thisset.update(tropical)\n",
    "\n",
    "print(thisset)"
   ]
  },
  {
   "cell_type": "code",
   "execution_count": null,
   "id": "dc312a2d-a6f0-4ac7-9781-1e1e4c913153",
   "metadata": {},
   "outputs": [],
   "source": []
  },
  {
   "cell_type": "markdown",
   "id": "edda997f-dc8b-46d9-9ade-f29df1137ce5",
   "metadata": {},
   "source": [
    "Student attendance checker-- You are teacher with some students enrolled in your class for a particular academi session.\n",
    "write a python program that allows you to record the names of students as they appear in class. Then at the end of collecting the student's attendance, the program should print the names of students that were absent for that day.\n",
    "\n",
    "hint: create a set to ocntain or collect student names.\n",
    "create a variable that collects students name to store the students that have arrived in class.\n"
   ]
  },
  {
   "cell_type": "code",
   "execution_count": 165,
   "id": "4e461b88-fbc5-4088-8bca-e473a88a5b62",
   "metadata": {},
   "outputs": [
    {
     "name": "stdin",
     "output_type": "stream",
     "text": [
      "kindly input students that have arrived:  Sam\n"
     ]
    }
   ],
   "source": [
    "class_list = ['Adetade', 'Vincent', 'Grace', 'ola', 'dumebi']\n",
    "class_lists = []\n",
    "for names in class_list:\n",
    "    class_lists.append(names.capitalize())\n",
    "class_lists\n",
    "present_students = []\n",
    "while True:\n",
    "    name = input(\"Kindly input student's name: \").capitalize()\n",
    "    if name.lower() == 'done': \n",
    "        break\n",
    "    if name in class_lists:\n",
    "        present_students.append(name)\n",
    "    else:\n",
    "        print('This student is not a member of this class')\n",
    "        \n",
    "absent_students = []\n",
    "for i in class_lists:\n",
    "    if i not in present_students:\n",
    "      absent_students.append(i) \n",
    "    \n",
    "print(\"The absent students are:\")\n",
    "for i in absent_students:\n",
    "    print(i)\n",
    "\n",
    "\n",
    "# Method 2\n",
    "class_list = ('Adetade', 'Vincent', 'Grace', 'ola', 'dumebi')\n",
    "class_lists = set()\n",
    "for names in class_list:\n",
    "    class_lists.add(names.capitalize())\n",
    "class_lists\n",
    "\n",
    "present_students = set()\n",
    "while True:\n",
    "    name = input(\"Kindly input student's name: \").capitalize()\n",
    "    if name.lower() == 'done': \n",
    "        break\n",
    "    if name in class_lists:\n",
    "        present_students.add(name)\n",
    "    else:\n",
    "        print('This student is not a member of this class')\n",
    "\n",
    "absent = class_lists.difference(present_students)\n",
    "\n",
    "print(\"The absent students are:\")\n",
    "for i in absent:\n",
    "    print(i)\n",
    "        "
   ]
  },
  {
   "cell_type": "code",
   "execution_count": 15,
   "id": "37cd1296-b698-4a3a-a6da-701243bd8b50",
   "metadata": {},
   "outputs": [
    {
     "name": "stdin",
     "output_type": "stream",
     "text": [
      "Your name:  Oladele\n"
     ]
    },
    {
     "name": "stdout",
     "output_type": "stream",
     "text": [
      "Hello Oladele!, You are in group 15\n"
     ]
    }
   ],
   "source": [
    "name = input(\"Your name: \").title()\n",
    "print(f'Hello {name}!, You are in group {ord(name[0])-64}')"
   ]
  },
  {
   "cell_type": "code",
   "execution_count": 17,
   "id": "03280326-7cfc-43c0-802c-32d48fa7d0d9",
   "metadata": {},
   "outputs": [
    {
     "name": "stdin",
     "output_type": "stream",
     "text": [
      "Your name:  Oladele\n"
     ]
    },
    {
     "name": "stdout",
     "output_type": "stream",
     "text": [
      "Hello Oladele\n",
      "You are in group 15\n"
     ]
    }
   ],
   "source": [
    "name = input(\"Your name: \")\n",
    "name = name.title()\n",
    "first_char = name[0]\n",
    "group = ord(first_char)-64\n",
    "print(\"Hello\", name)\n",
    "print(\"You are in group\", group)"
   ]
  },
  {
   "cell_type": "code",
   "execution_count": 164,
   "id": "945d0c70-d86e-4281-9c15-cc28d931a2be",
   "metadata": {},
   "outputs": [],
   "source": [
    "mydict = {'Ola':25, 'Ade':24, 'Vincent':30, 'Dumebi': 24, 'Dumebi': 20}"
   ]
  },
  {
   "cell_type": "code",
   "execution_count": 184,
   "id": "974b0a32-32e4-4c24-9054-4801a20a1e88",
   "metadata": {},
   "outputs": [
    {
     "data": {
      "text/plain": [
       "24.75"
      ]
     },
     "execution_count": 184,
     "metadata": {},
     "output_type": "execute_result"
    }
   ],
   "source": [
    "sum(mydict.values())/len(mydict.values())"
   ]
  },
  {
   "cell_type": "code",
   "execution_count": 39,
   "id": "4783e269-2555-4e5d-b26d-d972bff1a7e0",
   "metadata": {},
   "outputs": [
    {
     "data": {
      "text/plain": [
       "24"
      ]
     },
     "execution_count": 39,
     "metadata": {},
     "output_type": "execute_result"
    }
   ],
   "source": [
    "mydict.get('Ade')"
   ]
  },
  {
   "cell_type": "code",
   "execution_count": 41,
   "id": "b1d90d55-d0a4-409f-bb4e-762f2f100b16",
   "metadata": {},
   "outputs": [],
   "source": [
    "mydict['Ola'] = 30"
   ]
  },
  {
   "cell_type": "code",
   "execution_count": 43,
   "id": "33162cb7-765b-4f2c-9824-3acdc63d3c09",
   "metadata": {},
   "outputs": [
    {
     "data": {
      "text/plain": [
       "{'Ola': 30, 'Ade': 24, 'Vincent': 30, 'Dumebi': 20}"
      ]
     },
     "execution_count": 43,
     "metadata": {},
     "output_type": "execute_result"
    }
   ],
   "source": [
    "mydict"
   ]
  },
  {
   "cell_type": "code",
   "execution_count": 45,
   "id": "d3af8b72-6690-4394-a566-dbfe6b573e6b",
   "metadata": {},
   "outputs": [],
   "source": [
    "mydict.update({'Vincent':33})"
   ]
  },
  {
   "cell_type": "code",
   "execution_count": 218,
   "id": "60bd2418-d5ce-4ac6-af53-357a34102e60",
   "metadata": {},
   "outputs": [
    {
     "name": "stdout",
     "output_type": "stream",
     "text": [
      "('Ola', 25)\n",
      "('Ade', 24)\n",
      "('Vincent', 30)\n",
      "('Dumebi', 20)\n"
     ]
    }
   ],
   "source": [
    "for i in mydict.items():\n",
    "    print(i)"
   ]
  },
  {
   "cell_type": "code",
   "execution_count": 49,
   "id": "4417898e-05f0-44a9-bb63-9098003ea3e6",
   "metadata": {},
   "outputs": [],
   "source": [
    "x = {'type' : 'fruit', 'name' : 'banana'}\n"
   ]
  },
  {
   "cell_type": "code",
   "execution_count": 51,
   "id": "fdd92313-2f93-49c6-89bf-3bad471f01ba",
   "metadata": {},
   "outputs": [],
   "source": [
    "x['type'] = 'berry'"
   ]
  },
  {
   "cell_type": "code",
   "execution_count": 53,
   "id": "c5a8aa9d-c1ec-4bad-b40b-36f200d02c8e",
   "metadata": {},
   "outputs": [
    {
     "data": {
      "text/plain": [
       "{'type': 'berry', 'name': 'banana'}"
      ]
     },
     "execution_count": 53,
     "metadata": {},
     "output_type": "execute_result"
    }
   ],
   "source": [
    "x"
   ]
  },
  {
   "cell_type": "code",
   "execution_count": 55,
   "id": "ce3477c5-3234-4a3e-967f-bba7e2a32a68",
   "metadata": {},
   "outputs": [],
   "source": [
    "mydict['Gabriel'] = 32"
   ]
  },
  {
   "cell_type": "code",
   "execution_count": 57,
   "id": "8e4e85d0-cea8-4558-8164-a42f150034e8",
   "metadata": {},
   "outputs": [
    {
     "data": {
      "text/plain": [
       "{'Ola': 30, 'Ade': 24, 'Vincent': 33, 'Dumebi': 20, 'Gabriel': 32}"
      ]
     },
     "execution_count": 57,
     "metadata": {},
     "output_type": "execute_result"
    }
   ],
   "source": [
    "mydict"
   ]
  },
  {
   "cell_type": "code",
   "execution_count": 59,
   "id": "4740c08c-16f5-41cb-987d-4f840173a267",
   "metadata": {},
   "outputs": [],
   "source": [
    "mydict.update({'Sandra': 21})"
   ]
  },
  {
   "cell_type": "code",
   "execution_count": 61,
   "id": "178ad0f9-acf6-4fba-b83b-8a30b1e308a2",
   "metadata": {
    "scrolled": true
   },
   "outputs": [
    {
     "data": {
      "text/plain": [
       "{'Ola': 30,\n",
       " 'Ade': 24,\n",
       " 'Vincent': 33,\n",
       " 'Dumebi': 20,\n",
       " 'Gabriel': 32,\n",
       " 'Sandra': 21}"
      ]
     },
     "execution_count": 61,
     "metadata": {},
     "output_type": "execute_result"
    }
   ],
   "source": [
    "mydict"
   ]
  },
  {
   "cell_type": "code",
   "execution_count": 63,
   "id": "e926654e-66c5-4bd8-a4c3-5ac651b7cff5",
   "metadata": {},
   "outputs": [
    {
     "data": {
      "text/plain": [
       "21"
      ]
     },
     "execution_count": 63,
     "metadata": {},
     "output_type": "execute_result"
    }
   ],
   "source": [
    "mydict.pop('Sandra')"
   ]
  },
  {
   "cell_type": "code",
   "execution_count": 65,
   "id": "271ee13a-3876-40c7-81da-483291673fcf",
   "metadata": {},
   "outputs": [
    {
     "data": {
      "text/plain": [
       "{'Ola': 30, 'Ade': 24, 'Vincent': 33, 'Dumebi': 20, 'Gabriel': 32}"
      ]
     },
     "execution_count": 65,
     "metadata": {},
     "output_type": "execute_result"
    }
   ],
   "source": [
    "mydict"
   ]
  },
  {
   "cell_type": "code",
   "execution_count": 73,
   "id": "b5f49dc1-54e7-4582-95ba-4e64c89df1e9",
   "metadata": {},
   "outputs": [
    {
     "data": {
      "text/plain": [
       "('Gabriel', 32)"
      ]
     },
     "execution_count": 73,
     "metadata": {},
     "output_type": "execute_result"
    }
   ],
   "source": [
    "mydict.popitem()"
   ]
  },
  {
   "cell_type": "code",
   "execution_count": 77,
   "id": "a18fa5fe-9c39-40c6-aac9-b947b036668b",
   "metadata": {},
   "outputs": [],
   "source": [
    "del mydict['Ola']"
   ]
  },
  {
   "cell_type": "code",
   "execution_count": 79,
   "id": "50682a2e-bbf0-4c0f-972b-2623ccf3fbff",
   "metadata": {},
   "outputs": [
    {
     "data": {
      "text/plain": [
       "{'Ade': 24, 'Vincent': 33, 'Dumebi': 20}"
      ]
     },
     "execution_count": 79,
     "metadata": {},
     "output_type": "execute_result"
    }
   ],
   "source": [
    "mydict"
   ]
  },
  {
   "cell_type": "code",
   "execution_count": 81,
   "id": "6bace43e-c08f-4e42-821c-b7daa04ff16a",
   "metadata": {},
   "outputs": [],
   "source": [
    "del x"
   ]
  },
  {
   "cell_type": "code",
   "execution_count": 99,
   "id": "02151534-1631-4708-8009-d7829ade9154",
   "metadata": {},
   "outputs": [
    {
     "name": "stdout",
     "output_type": "stream",
     "text": [
      "Ade 24\n",
      "Vincent 33\n",
      "Dumebi 20\n"
     ]
    }
   ],
   "source": [
    "for students, age in mydict.items():\n",
    "    print(students, age)"
   ]
  },
  {
   "cell_type": "code",
   "execution_count": 113,
   "id": "d758a229-ec47-4922-bd3b-ea86bf6b4960",
   "metadata": {},
   "outputs": [],
   "source": [
    "mydict = {}"
   ]
  },
  {
   "cell_type": "code",
   "execution_count": 115,
   "id": "87a92ec1-9a89-43fa-b868-c17ac489afe8",
   "metadata": {},
   "outputs": [],
   "source": [
    "mydict1 = {'Ade': 24, 'Vincent': 33, 'Dumebi': 20}"
   ]
  },
  {
   "cell_type": "code",
   "execution_count": 117,
   "id": "4b8580d6-05e0-4264-83f3-8a623d060db2",
   "metadata": {},
   "outputs": [],
   "source": [
    "mydict = mydict1"
   ]
  },
  {
   "cell_type": "code",
   "execution_count": 119,
   "id": "43d1cfd9-6d4a-4fa9-a86c-23d66d893ce4",
   "metadata": {},
   "outputs": [
    {
     "data": {
      "text/plain": [
       "{'Ade': 24, 'Vincent': 33, 'Dumebi': 20}"
      ]
     },
     "execution_count": 119,
     "metadata": {},
     "output_type": "execute_result"
    }
   ],
   "source": [
    "mydict1"
   ]
  },
  {
   "cell_type": "code",
   "execution_count": 123,
   "id": "9b46974f-d7b8-4c5f-b2a2-ec8d3cfa44e0",
   "metadata": {},
   "outputs": [
    {
     "data": {
      "text/plain": [
       "24"
      ]
     },
     "execution_count": 123,
     "metadata": {},
     "output_type": "execute_result"
    }
   ],
   "source": [
    "mydict1.pop('Ade')"
   ]
  },
  {
   "cell_type": "code",
   "execution_count": 125,
   "id": "4fb98a93-23f7-41d2-a7e0-e88c662d1c34",
   "metadata": {},
   "outputs": [
    {
     "data": {
      "text/plain": [
       "{'Vincent': 33, 'Dumebi': 20}"
      ]
     },
     "execution_count": 125,
     "metadata": {},
     "output_type": "execute_result"
    }
   ],
   "source": [
    "mydict1"
   ]
  },
  {
   "cell_type": "code",
   "execution_count": 127,
   "id": "415177ea-3e95-45d7-8087-353b561ced2d",
   "metadata": {},
   "outputs": [
    {
     "data": {
      "text/plain": [
       "{'Vincent': 33, 'Dumebi': 20}"
      ]
     },
     "execution_count": 127,
     "metadata": {},
     "output_type": "execute_result"
    }
   ],
   "source": [
    "mydict"
   ]
  },
  {
   "cell_type": "code",
   "execution_count": 129,
   "id": "1991d0fe-ca05-46cd-beee-16f2577332b0",
   "metadata": {},
   "outputs": [
    {
     "name": "stdout",
     "output_type": "stream",
     "text": [
      "{'brand': 'Ford', 'model': 'Mustang', 'year': 1964}\n"
     ]
    }
   ],
   "source": [
    "thisdict = {\n",
    "  \"brand\": \"Ford\",\n",
    "  \"model\": \"Mustang\",\n",
    "  \"year\": 1964\n",
    "}\n",
    "mydict = thisdict.copy()\n",
    "print(mydict)"
   ]
  },
  {
   "cell_type": "code",
   "execution_count": 131,
   "id": "bdef6528-d235-41e1-8f17-0a447750c2fc",
   "metadata": {},
   "outputs": [
    {
     "data": {
      "text/plain": [
       "{'brand': 'Ford', 'model': 'Mustang', 'year': 1964, 'colour': 'Black'}"
      ]
     },
     "execution_count": 131,
     "metadata": {},
     "output_type": "execute_result"
    }
   ],
   "source": [
    "thisdict['colour'] = 'Black'\n",
    "thisdict"
   ]
  },
  {
   "cell_type": "code",
   "execution_count": 133,
   "id": "079c655a-a6d3-4c6f-ac25-63b39bcbee7c",
   "metadata": {},
   "outputs": [
    {
     "data": {
      "text/plain": [
       "{'brand': 'Ford', 'model': 'Mustang', 'year': 1964}"
      ]
     },
     "execution_count": 133,
     "metadata": {},
     "output_type": "execute_result"
    }
   ],
   "source": [
    "mydict"
   ]
  },
  {
   "cell_type": "code",
   "execution_count": 135,
   "id": "444f4639-4f18-4f14-b8c3-88ff11498491",
   "metadata": {},
   "outputs": [],
   "source": [
    "myfamily = {\n",
    "  \"child1\" : {\n",
    "    \"name\" : \"Emil\",\n",
    "    \"year\" : 2004\n",
    "  },\n",
    "  \"child2\" : {\n",
    "    \"name\" : \"Tobias\",\n",
    "    \"year\" : 2007\n",
    "  },\n",
    "  \"child3\" : {\n",
    "    \"name\" : \"Linus\",\n",
    "    \"year\" : 2011\n",
    "  }\n",
    "}"
   ]
  },
  {
   "cell_type": "code",
   "execution_count": 141,
   "id": "82e0b415-6d6e-45ec-9f90-4d6ba9b6a6e0",
   "metadata": {},
   "outputs": [
    {
     "data": {
      "text/plain": [
       "dict_values(['Emil', 2004])"
      ]
     },
     "execution_count": 141,
     "metadata": {},
     "output_type": "execute_result"
    }
   ],
   "source": [
    "myfamily['child1'].values()"
   ]
  },
  {
   "cell_type": "code",
   "execution_count": 151,
   "id": "81d080dd-49d4-4560-911d-04c141388593",
   "metadata": {
    "scrolled": true
   },
   "outputs": [
    {
     "name": "stdout",
     "output_type": "stream",
     "text": [
      "1\n",
      "2\n",
      "3\n",
      "4\n",
      "5\n"
     ]
    }
   ],
   "source": [
    "i = 1\n",
    "while i < 6:\n",
    "  print(i)\n",
    "  i += 1\n",
    "    "
   ]
  },
  {
   "cell_type": "code",
   "execution_count": 159,
   "id": "bcd717f4-ee06-400b-8c31-84de3a31b2e8",
   "metadata": {
    "scrolled": true
   },
   "outputs": [
    {
     "name": "stdout",
     "output_type": "stream",
     "text": [
      "1\n",
      "2\n",
      "3\n",
      "4\n",
      "5\n",
      "6\n",
      "7\n",
      "8\n",
      "9\n",
      "10\n",
      "11\n",
      "12\n",
      "13\n",
      "14\n",
      "15\n"
     ]
    }
   ],
   "source": [
    "i = 1\n",
    "while i:\n",
    "  print(i)\n",
    "  if i == 15:\n",
    "    break\n",
    "  i += 1"
   ]
  },
  {
   "cell_type": "code",
   "execution_count": 161,
   "id": "5f98f475-bd50-44cf-ae3d-f1b83dea3f55",
   "metadata": {},
   "outputs": [
    {
     "name": "stdout",
     "output_type": "stream",
     "text": [
      "apple\n",
      "banana\n"
     ]
    }
   ],
   "source": [
    "fruits = [\"apple\", \"banana\", \"cherry\"]\n",
    "for x in fruits:\n",
    "  print(x)\n",
    "  if x == \"banana\":\n",
    "    break"
   ]
  },
  {
   "cell_type": "markdown",
   "id": "ee3953cc-4633-4bc0-bc74-919197695c65",
   "metadata": {},
   "source": [
    "1. write a program that assigns grades to student scores. That is score 0-39 is F, 40-45 is E, 46-49 is D etc.\n",
    "2. You are a teacher and need to keep track of your students grade for a test. create a dictionary where the keys are student names and the values are their scores. allow the user to input a student's name to retrieve their score. display the average score of the class, the maximum score of the class and the minumum score of the class"
   ]
  },
  {
   "cell_type": "code",
   "execution_count": 212,
   "id": "6a41c8d8-85c1-4290-8c9f-a4c2c3b2ff5f",
   "metadata": {},
   "outputs": [
    {
     "name": "stdin",
     "output_type": "stream",
     "text": [
      "Kindly input your score:  -12\n"
     ]
    },
    {
     "name": "stdout",
     "output_type": "stream",
     "text": [
      "Kindly enter a valid score\n"
     ]
    }
   ],
   "source": [
    "score = int(input(\"Kindly input your score: \"))\n",
    "a = 'Your garde is A'\n",
    "b = 'Your grade is B'\n",
    "c = 'Your grade is C'\n",
    "d = 'Your grade is D'\n",
    "e = 'Your grade is E'\n",
    "f = 'Your grade is F'\n",
    "invalid = 'Kindly enter a valid score'\n",
    "if score in range(40,45):\n",
    "    print(e)\n",
    "elif score in range(45,50):\n",
    "    print(d)\n",
    "elif score in range(50,60):\n",
    "    print(c)\n",
    "elif score  in range(60,70):\n",
    "    print(b)\n",
    "elif score in range(70, 100):\n",
    "    print(a)\n",
    "elif score < 0 or score > 100:\n",
    "    print(invalid)\n",
    "else:\n",
    "    print(f)\n",
    "    "
   ]
  },
  {
   "cell_type": "code",
   "execution_count": 200,
   "id": "42ff577d-a383-47fa-8f9b-93fe99909d8a",
   "metadata": {},
   "outputs": [
    {
     "name": "stdout",
     "output_type": "stream",
     "text": [
      "40\n",
      "41\n",
      "42\n",
      "43\n",
      "44\n"
     ]
    }
   ],
   "source": [
    "for i in range(40,45):\n",
    "    print (i)"
   ]
  },
  {
   "cell_type": "code",
   "execution_count": 220,
   "id": "8f09c8aa-437b-4b4e-80ce-385edf58abc1",
   "metadata": {},
   "outputs": [],
   "source": [
    "class_dict = {'Joe': 56,\n",
    "              'Sam':87,\n",
    "              'Helen':43,\n",
    "              'Grace':67,\n",
    "              'David':84\n",
    "}"
   ]
  },
  {
   "cell_type": "code",
   "execution_count": 230,
   "id": "ad50276b-fcca-473c-910b-6865ef6f734e",
   "metadata": {},
   "outputs": [
    {
     "name": "stdin",
     "output_type": "stream",
     "text": [
      " Joe\n"
     ]
    },
    {
     "data": {
      "text/plain": [
       "56"
      ]
     },
     "execution_count": 230,
     "metadata": {},
     "output_type": "execute_result"
    }
   ],
   "source": [
    "class_dict[input()]"
   ]
  },
  {
   "cell_type": "code",
   "execution_count": 246,
   "id": "a3f2ad53-595b-4cfd-a362-36c465e665eb",
   "metadata": {},
   "outputs": [
    {
     "data": {
      "text/plain": [
       "67.4"
      ]
     },
     "execution_count": 246,
     "metadata": {},
     "output_type": "execute_result"
    }
   ],
   "source": [
    "sum(class_dict.values())/len(class_dict.values())"
   ]
  },
  {
   "cell_type": "code",
   "execution_count": 252,
   "id": "0101080e-7c3d-4e98-bb24-de38b4747334",
   "metadata": {},
   "outputs": [
    {
     "name": "stdin",
     "output_type": "stream",
     "text": [
      "Kindly enter your query joe\n"
     ]
    },
    {
     "name": "stdout",
     "output_type": "stream",
     "text": [
      "56\n",
      "Maximum score is: 87\n",
      "Minimum score is: 43\n",
      "Average score is: 67.4\n"
     ]
    }
   ],
   "source": [
    "query = input(\"Kindly enter your query\").title()\n",
    "if query in class_dict.keys():\n",
    "    score = class_dict[query]\n",
    "    print(score)\n",
    "else:\n",
    "    print(\"Kindly enter a valid query\")\n",
    "\n",
    "max_score = max(class_dict.values())\n",
    "min_score = min(class_dict.values())\n",
    "avg_score = sum(class_dict.values())/len(class_dict.values())\n",
    "print('Maximum score is:', max_score)\n",
    "print('Minimum score is:', min_score)\n",
    "print('Average score is:', avg_score)"
   ]
  }
 ],
 "metadata": {
  "kernelspec": {
   "display_name": "Python 3 (ipykernel)",
   "language": "python",
   "name": "python3"
  },
  "language_info": {
   "codemirror_mode": {
    "name": "ipython",
    "version": 3
   },
   "file_extension": ".py",
   "mimetype": "text/x-python",
   "name": "python",
   "nbconvert_exporter": "python",
   "pygments_lexer": "ipython3",
   "version": "3.11.7"
  }
 },
 "nbformat": 4,
 "nbformat_minor": 5
}
